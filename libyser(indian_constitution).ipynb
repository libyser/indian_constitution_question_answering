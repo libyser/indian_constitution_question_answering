{
  "cells": [
    {
      "cell_type": "markdown",
      "metadata": {
        "id": "YjhUIcZbly_-"
      },
      "source": [
        "# Tranforming Data\n"
      ]
    },
    {
      "cell_type": "code",
      "execution_count": 1,
      "metadata": {
        "id": "MFu3eA98alJU"
      },
      "outputs": [],
      "source": [
        "document_url = 'https://cdnbbsr.s3waas.gov.in/s380537a945c7aaa788ccfcdf1b99b5d8f/uploads/2023/05/2023050195.pdf'\n"
      ]
    },
    {
      "cell_type": "code",
      "execution_count": 2,
      "metadata": {
        "colab": {
          "base_uri": "https://localhost:8080/"
        },
        "id": "aBubIEovz4Lx",
        "outputId": "d272653b-3030-4107-fce2-4bf218299465"
      },
      "outputs": [
        {
          "output_type": "stream",
          "name": "stdout",
          "text": [
            "Requirement already satisfied: requests in /usr/local/lib/python3.10/dist-packages (2.31.0)\n",
            "Requirement already satisfied: charset-normalizer<4,>=2 in /usr/local/lib/python3.10/dist-packages (from requests) (3.3.2)\n",
            "Requirement already satisfied: idna<4,>=2.5 in /usr/local/lib/python3.10/dist-packages (from requests) (3.6)\n",
            "Requirement already satisfied: urllib3<3,>=1.21.1 in /usr/local/lib/python3.10/dist-packages (from requests) (2.0.7)\n",
            "Requirement already satisfied: certifi>=2017.4.17 in /usr/local/lib/python3.10/dist-packages (from requests) (2024.2.2)\n",
            "Collecting pdfplumber\n",
            "  Downloading pdfplumber-0.10.4-py3-none-any.whl (54 kB)\n",
            "\u001b[2K     \u001b[90m━━━━━━━━━━━━━━━━━━━━━━━━━━━━━━━━━━━━━━━━\u001b[0m \u001b[32m54.7/54.7 kB\u001b[0m \u001b[31m940.4 kB/s\u001b[0m eta \u001b[36m0:00:00\u001b[0m\n",
            "\u001b[?25hCollecting pdfminer.six==20221105 (from pdfplumber)\n",
            "  Downloading pdfminer.six-20221105-py3-none-any.whl (5.6 MB)\n",
            "\u001b[2K     \u001b[90m━━━━━━━━━━━━━━━━━━━━━━━━━━━━━━━━━━━━━━━━\u001b[0m \u001b[32m5.6/5.6 MB\u001b[0m \u001b[31m22.5 MB/s\u001b[0m eta \u001b[36m0:00:00\u001b[0m\n",
            "\u001b[?25hRequirement already satisfied: Pillow>=9.1 in /usr/local/lib/python3.10/dist-packages (from pdfplumber) (9.4.0)\n",
            "Collecting pypdfium2>=4.18.0 (from pdfplumber)\n",
            "  Downloading pypdfium2-4.27.0-py3-none-manylinux_2_17_x86_64.manylinux2014_x86_64.whl (2.8 MB)\n",
            "\u001b[2K     \u001b[90m━━━━━━━━━━━━━━━━━━━━━━━━━━━━━━━━━━━━━━━━\u001b[0m \u001b[32m2.8/2.8 MB\u001b[0m \u001b[31m45.6 MB/s\u001b[0m eta \u001b[36m0:00:00\u001b[0m\n",
            "\u001b[?25hRequirement already satisfied: charset-normalizer>=2.0.0 in /usr/local/lib/python3.10/dist-packages (from pdfminer.six==20221105->pdfplumber) (3.3.2)\n",
            "Requirement already satisfied: cryptography>=36.0.0 in /usr/local/lib/python3.10/dist-packages (from pdfminer.six==20221105->pdfplumber) (42.0.5)\n",
            "Requirement already satisfied: cffi>=1.12 in /usr/local/lib/python3.10/dist-packages (from cryptography>=36.0.0->pdfminer.six==20221105->pdfplumber) (1.16.0)\n",
            "Requirement already satisfied: pycparser in /usr/local/lib/python3.10/dist-packages (from cffi>=1.12->cryptography>=36.0.0->pdfminer.six==20221105->pdfplumber) (2.21)\n",
            "Installing collected packages: pypdfium2, pdfminer.six, pdfplumber\n",
            "Successfully installed pdfminer.six-20221105 pdfplumber-0.10.4 pypdfium2-4.27.0\n"
          ]
        }
      ],
      "source": [
        "!pip install requests\n",
        "!pip install pdfplumber"
      ]
    },
    {
      "cell_type": "code",
      "execution_count": null,
      "metadata": {
        "id": "B1RBiQJ1bdQg"
      },
      "outputs": [],
      "source": [
        "import requests\n",
        "import pdfplumber\n",
        "\n",
        "def download_pdf(url, save_path):\n",
        "    response = requests.get(url)\n",
        "    with open(save_path, 'wb') as pdf_file:\n",
        "        pdf_file.write(response.content)\n",
        "\n",
        "def extract_text_from_pdf(pdf_path):\n",
        "  with pdfplumber.open(pdf_path) as pdf:\n",
        "      text = \"\"\n",
        "      for page in pdf.pages:\n",
        "          text += page.extract_text()\n",
        "\n",
        "      return text\n",
        "\n",
        "# Example usage\n",
        "pdf_url = \"https://example.com/path/to/your.pdf\"\n",
        "downloaded_pdf_path = \"document.pdf\"\n",
        "\n",
        "download_pdf(document_url, downloaded_pdf_path)\n",
        "extracted_text = extract_text_from_pdf(downloaded_pdf_path)"
      ]
    },
    {
      "cell_type": "code",
      "execution_count": null,
      "metadata": {
        "id": "PCOnhE7808ND"
      },
      "outputs": [],
      "source": [
        "print(extracted_text[:1000])"
      ]
    },
    {
      "cell_type": "code",
      "execution_count": null,
      "metadata": {
        "id": "LIkw-s_PqkK_"
      },
      "outputs": [],
      "source": [
        "import re\n",
        "\n",
        "def remove_non_alphanumeric(input_string):\n",
        "    # Use regular expression to remove non-alphanumeric characters\n",
        "    clean_string = re.sub(r'[^a-zA-Z0-9\\s]', '', input_string)\n",
        "    return clean_string.replace('\\n', ' ')\n",
        "\n",
        "wanted_text = remove_non_alphanumeric(extracted_text)"
      ]
    },
    {
      "cell_type": "code",
      "execution_count": null,
      "metadata": {
        "id": "ise0OIqMrmMz"
      },
      "outputs": [],
      "source": [
        "wanted_text[:6004]"
      ]
    },
    {
      "cell_type": "code",
      "execution_count": null,
      "metadata": {
        "id": "2WrRx4sY6wf2"
      },
      "outputs": [],
      "source": [
        "from nltk.tokenize import word_tokenize\n",
        "import nltk\n",
        "\n",
        "nltk.download('punkt')\n",
        "\n",
        "unique_words = len(set(word_tokenize(wanted_text)))"
      ]
    },
    {
      "cell_type": "code",
      "execution_count": null,
      "metadata": {
        "id": "8ya-JgE0zmAZ"
      },
      "outputs": [],
      "source": [
        "!pip install tensorflow"
      ]
    },
    {
      "cell_type": "code",
      "execution_count": null,
      "metadata": {
        "id": "VrJw80g4x-NE"
      },
      "outputs": [],
      "source": [
        "from tensorflow.keras.preprocessing.text import Tokenizer\n",
        "\n",
        "# Tokenize the text\n",
        "tokenizer = Tokenizer()\n",
        "tokenizer.fit_on_texts([wanted_text])\n",
        "text_encode = [tokenizer.texts_to_sequences(wanted_text)]"
      ]
    },
    {
      "cell_type": "code",
      "execution_count": null,
      "metadata": {
        "id": "Z_xldsbSuh1k"
      },
      "outputs": [],
      "source": [
        "from tensorflow.keras.preprocessing.sequence import pad_sequences\n",
        "import numpy as np\n",
        "# Assuming all_text_encd is a list of arrays with varying lengths\n",
        "# Pad sequences to a fixed length\n",
        "padded_sequences = pad_sequences(text_encode[0], dtype='int32', padding='post', truncating='post')\n",
        "\n",
        "# Convert to NumPy array\n",
        "all_text_encd = np.array(padded_sequences).reshape(1,-1).tolist()[0]"
      ]
    },
    {
      "cell_type": "code",
      "execution_count": null,
      "metadata": {
        "id": "VebMLjJHvxxz"
      },
      "outputs": [],
      "source": [
        "all_text_encd"
      ]
    },
    {
      "cell_type": "code",
      "execution_count": null,
      "metadata": {
        "id": "4rqKB8Qvuf6i"
      },
      "outputs": [],
      "source": [
        "block = 12\n",
        "total_embd = round(len(all_text_encd)/block)"
      ]
    },
    {
      "cell_type": "code",
      "execution_count": null,
      "metadata": {
        "id": "C1rW0iG7Xr66"
      },
      "outputs": [],
      "source": [
        "total_embd"
      ]
    },
    {
      "cell_type": "code",
      "execution_count": null,
      "metadata": {
        "id": "fIf67g1xyv-3"
      },
      "outputs": [],
      "source": [
        "\n",
        "x_vectors = []\n",
        "y_vectors = []\n",
        "\n",
        "ind = 0\n",
        "for i in range(total_embd-1):\n",
        "  for n in range(block):\n",
        "    seq = ind+n\n",
        "    x_vectors.append(all_text_encd[ind:seq+1])\n",
        "    y_vectors.append(all_text_encd[seq+1])\n",
        "  ind+=12\n"
      ]
    },
    {
      "cell_type": "code",
      "execution_count": null,
      "metadata": {
        "id": "o9VKXXi4f9JH"
      },
      "outputs": [],
      "source": [
        "len(x_vectors), len(y_vectors)"
      ]
    },
    {
      "cell_type": "markdown",
      "metadata": {
        "id": "RGAbLCScl-QB"
      },
      "source": [
        "# Reforming Data"
      ]
    },
    {
      "cell_type": "code",
      "execution_count": null,
      "metadata": {
        "id": "ANYaTtnWjRWR"
      },
      "outputs": [],
      "source": [
        "from tensorflow.keras.preprocessing.sequence import pad_sequences\n",
        "from tensorflow import convert_to_tensor\n",
        "import tensorflow as tf\n",
        "import numpy as np\n",
        "\n",
        "x = pad_sequences(x_vectors, maxlen=block, padding='pre')\n",
        "#y = convert_to_tensor(y_vectors, dtype=tf.float32)\n",
        "y = np.array(y_vectors)"
      ]
    },
    {
      "cell_type": "code",
      "execution_count": null,
      "metadata": {
        "id": "BBWrmf9IavDs"
      },
      "outputs": [],
      "source": [
        "new_shape = (x.shape[0], x.shape[1], 1)\n",
        "x = x.reshape(new_shape)"
      ]
    },
    {
      "cell_type": "code",
      "execution_count": null,
      "metadata": {
        "id": "ZFvw9_xbjkIc"
      },
      "outputs": [],
      "source": [
        "classes = y.max()+1"
      ]
    },
    {
      "cell_type": "code",
      "execution_count": null,
      "metadata": {
        "id": "ZYIbZe-ehjzH"
      },
      "outputs": [],
      "source": [
        "y = tf.keras.utils.to_categorical(y, num_classes=classes)\n",
        "#y = y.reshape(-1,1)"
      ]
    },
    {
      "cell_type": "code",
      "execution_count": null,
      "metadata": {
        "id": "tKsJgR9tn3xJ"
      },
      "outputs": [],
      "source": [
        "x.shape, y.shape"
      ]
    },
    {
      "cell_type": "markdown",
      "metadata": {
        "id": "AZ2KzvI6mEhU"
      },
      "source": [
        "# Creating Model"
      ]
    },
    {
      "cell_type": "code",
      "execution_count": null,
      "metadata": {
        "colab": {
          "base_uri": "https://localhost:8080/"
        },
        "id": "9g58bnne7DUW",
        "outputId": "88f2972d-c72c-4daf-a898-05f79d9f7dc3"
      },
      "outputs": [
        {
          "name": "stdout",
          "output_type": "stream",
          "text": [
            "Requirement already satisfied: torch in /usr/local/lib/python3.10/dist-packages (2.1.0+cu121)\n",
            "Requirement already satisfied: filelock in /usr/local/lib/python3.10/dist-packages (from torch) (3.13.1)\n",
            "Requirement already satisfied: typing-extensions in /usr/local/lib/python3.10/dist-packages (from torch) (4.10.0)\n",
            "Requirement already satisfied: sympy in /usr/local/lib/python3.10/dist-packages (from torch) (1.12)\n",
            "Requirement already satisfied: networkx in /usr/local/lib/python3.10/dist-packages (from torch) (3.2.1)\n",
            "Requirement already satisfied: jinja2 in /usr/local/lib/python3.10/dist-packages (from torch) (3.1.3)\n",
            "Requirement already satisfied: fsspec in /usr/local/lib/python3.10/dist-packages (from torch) (2023.6.0)\n",
            "Requirement already satisfied: triton==2.1.0 in /usr/local/lib/python3.10/dist-packages (from torch) (2.1.0)\n",
            "Requirement already satisfied: MarkupSafe>=2.0 in /usr/local/lib/python3.10/dist-packages (from jinja2->torch) (2.1.5)\n",
            "Requirement already satisfied: mpmath>=0.19 in /usr/local/lib/python3.10/dist-packages (from sympy->torch) (1.3.0)\n"
          ]
        }
      ],
      "source": [
        "!pip install torch"
      ]
    },
    {
      "cell_type": "code",
      "execution_count": null,
      "metadata": {
        "id": "hJJsGVY7LCJD"
      },
      "outputs": [],
      "source": [
        "import torch\n",
        "# Set the device\n",
        "device = torch.device(\"cuda\" if torch.cuda.is_available() else \"cpu\")"
      ]
    },
    {
      "cell_type": "code",
      "execution_count": null,
      "metadata": {
        "colab": {
          "base_uri": "https://localhost:8080/"
        },
        "id": "6S6ZrfVoLGAf",
        "outputId": "10b26f8b-2c0a-4da1-d41d-872fbbca3ee9"
      },
      "outputs": [
        {
          "data": {
            "text/plain": [
              "(7056, 12)"
            ]
          },
          "execution_count": 43,
          "metadata": {},
          "output_type": "execute_result"
        }
      ],
      "source": [
        "unique_words, block"
      ]
    },
    {
      "cell_type": "code",
      "execution_count": null,
      "metadata": {
        "colab": {
          "base_uri": "https://localhost:8080/"
        },
        "id": "Y5Yv_FtgrSrV",
        "outputId": "4e049477-6a0a-4bc2-e682-a153a7f349cf"
      },
      "outputs": [
        {
          "name": "stdout",
          "output_type": "stream",
          "text": [
            "Model: \"sequential\"\n",
            "_________________________________________________________________\n",
            " Layer (type)                Output Shape              Param #   \n",
            "=================================================================\n",
            " embedding (Embedding)       (None, 12, 150)           1058400   \n",
            "                                                                 \n",
            " lstm (LSTM)                 (None, 256)               416768    \n",
            "                                                                 \n",
            " dense (Dense)               (None, 3698)              950386    \n",
            "                                                                 \n",
            "=================================================================\n",
            "Total params: 2,425,554\n",
            "Trainable params: 2,425,554\n",
            "Non-trainable params: 0\n",
            "_________________________________________________________________\n"
          ]
        }
      ],
      "source": [
        "from tensorflow.keras.layers import Dense, LSTM, Embedding\n",
        "from tensorflow.keras.models import Sequential\n",
        "\n",
        "model = Sequential()\n",
        "model.add(Embedding(input_dim=unique_words, output_dim=150, input_length=block))\n",
        "#model.add(Dense(12))\n",
        "model.add(LSTM(256, input_shape=(12, 1)))\n",
        "model.add(Dense(3698, activation='softmax'))\n",
        "\n",
        "model.summary()"
      ]
    },
    {
      "cell_type": "code",
      "execution_count": null,
      "metadata": {
        "colab": {
          "background_save": true
        },
        "id": "CDOIw3xX794D"
      },
      "outputs": [],
      "source": [
        "model.compile(optimizer='adam', loss='categorical_crossentropy', metrics=['accuracy'])\n",
        "model.fit(x, y, epochs=110)"
      ]
    },
    {
      "cell_type": "code",
      "execution_count": null,
      "metadata": {
        "id": "-C8Ac2Hl_ENp"
      },
      "outputs": [],
      "source": [
        "p = model.predict(x[34])[0]\n",
        "p"
      ]
    },
    {
      "cell_type": "code",
      "execution_count": null,
      "metadata": {
        "id": "Dex1enCPN48S"
      },
      "outputs": [],
      "source": [
        "from google.colab import drive\n",
        "\n",
        "# Mount Google Drive\n",
        "drive.mount('/content/drive')\n",
        "\n",
        "model.save('/content/drive/indian_constitution.h5')"
      ]
    }
  ],
  "metadata": {
    "accelerator": "TPU",
    "colab": {
      "collapsed_sections": [
        "YjhUIcZbly_-",
        "RGAbLCScl-QB",
        "dK6oEFIj0X5a"
      ],
      "provenance": []
    },
    "kernelspec": {
      "display_name": "Python 3",
      "name": "python3"
    },
    "language_info": {
      "name": "python"
    }
  },
  "nbformat": 4,
  "nbformat_minor": 0
}